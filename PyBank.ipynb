{
 "cells": [
  {
   "cell_type": "code",
   "execution_count": 1,
   "id": "a3df1eec-d6be-46a4-b87b-6fc059d2d02b",
   "metadata": {},
   "outputs": [],
   "source": [
    "import pandas as pd"
   ]
  },
  {
   "cell_type": "code",
   "execution_count": 2,
   "id": "dbcdd0ba-da7f-42ef-a544-005143dc0f83",
   "metadata": {},
   "outputs": [],
   "source": [
    "# Read in the data from the csv file\n",
    "data = pd.read_csv(\"Resources/budget_data.csv\")"
   ]
  },
  {
   "cell_type": "code",
   "execution_count": 3,
   "id": "5753c076-cfb1-458f-b5d2-d11a157197bb",
   "metadata": {},
   "outputs": [],
   "source": [
    "# Count the number of rows in the dataframe\n",
    "num_rows = data.shape[0]"
   ]
  },
  {
   "cell_type": "code",
   "execution_count": 4,
   "id": "7166e3d0-dbac-438c-b77d-641c2c2f11d9",
   "metadata": {},
   "outputs": [],
   "source": [
    "# Sum the total profit/losses\n",
    "total_profit = data[\"Profit/Losses\"].sum()\n"
   ]
  },
  {
   "cell_type": "code",
   "execution_count": 5,
   "id": "87df8962-3537-4c3c-ac1b-ba58f61e7fd9",
   "metadata": {},
   "outputs": [],
   "source": [
    "# Average of the changes in profit/losses over the entire period\n",
    "change_over_period = data[\"Profit/Losses\"].diff()\n",
    "avg_change = round(change_over_period.mean(), 2)"
   ]
  },
  {
   "cell_type": "code",
   "execution_count": 6,
   "id": "c2cc32ad-d887-4a5e-8b53-e49f08347f09",
   "metadata": {},
   "outputs": [],
   "source": [
    "# Greatest increase in profits (date and amount) over the entire period\n",
    "greatest_increase = data[\"Profit/Losses\"].max()"
   ]
  },
  {
   "cell_type": "code",
   "execution_count": 7,
   "id": "d8d27911-4803-42d2-8629-4ce7071e06c5",
   "metadata": {},
   "outputs": [],
   "source": [
    "condition = data[\"Profit/Losses\"] == greatest_increase\n",
    "index = data[condition].index.tolist()\n",
    "greatest_increase_date = data.loc[index[0], \"Date\"]\n",
    "previous_month_profit = data.loc[index[0] - 1, \"Profit/Losses\"]\n",
    "greatest_increase = greatest_increase + abs(previous_month_profit)"
   ]
  },
  {
   "cell_type": "code",
   "execution_count": 8,
   "id": "7679bdd2-b6e0-437a-a199-c1601ee04af1",
   "metadata": {},
   "outputs": [],
   "source": [
    "# Greatest decrease in profits (date and amount) over the entire period\n",
    "greatest_decrease = data[\"Profit/Losses\"].min()\n",
    "condition = data[\"Profit/Losses\"] == greatest_decrease\n",
    "index = data[condition].index.tolist()\n",
    "greatest_decrease_date = data.loc[index[0], \"Date\"]\n",
    "previous_month_profit = data.loc[index[0] - 1, \"Profit/Losses\"]\n",
    "greatest_decrease = greatest_decrease - abs(previous_month_profit)"
   ]
  },
  {
   "cell_type": "code",
   "execution_count": 9,
   "id": "a9006358-c249-418c-b9d2-19b066b23e4b",
   "metadata": {},
   "outputs": [
    {
     "name": "stdout",
     "output_type": "stream",
     "text": [
      "Financial Analysis\n",
      "----------------------------\n",
      "Total Months: 86\n",
      "Total: $38382578\n",
      "Average Change: $-2315.12\n",
      "Greatest Increase in Profits: Feb-2012 ($1926159)\n",
      "Greatest Decrease in Profits: Sep-2013 ($-2196167)\n"
     ]
    }
   ],
   "source": [
    "# Print the analysis to the terminal\n",
    "print(\"Financial Analysis\")\n",
    "print(\"----------------------------\")\n",
    "print(\"Total Months: \" + str(num_rows))\n",
    "print(\"Total: $\" + str(total_profit))\n",
    "print(\"Average Change: $\" + str(avg_change))\n",
    "print(\"Greatest Increase in Profits: \" + str(greatest_increase_date) + \" ($\" + str(greatest_increase) + \")\")\n",
    "print(\"Greatest Decrease in Profits: \" + str(greatest_decrease_date) + \" ($\" + str(greatest_decrease) + \")\")"
   ]
  },
  {
   "cell_type": "code",
   "execution_count": 10,
   "id": "eac4bf3e-e208-4378-b1d9-608b9cdf38ff",
   "metadata": {},
   "outputs": [],
   "source": [
    "# Export a text file with the results\n",
    "with open(\"PyBank_report.txt\", \"w\") as text_file:\n",
    "    text_file.write(\"Financial Analysis\\n\")\n",
    "    text_file.write(\"----------------------------\\n\")\n",
    "    text_file.write(\"Total Months: \" + str(num_rows) + \"\\n\")\n",
    "    text_file.write(\"Total: $\" + str(total_profit) + \"\\n\")\n",
    "    text_file.write(\"Average Change: $\" + str(avg_change) + \"\\n\")\n",
    "    text_file.write(\"Greatest Increase in Profits: \" + str(greatest_increase_date) + \" ($\" + str(greatest_increase) + \")\\n\")\n",
    "    text_file.write(\"Greatest Decrease in Profits: \" + str(greatest_decrease_date) + \" ($\" + str(greatest_decrease) + \")\\n\")"
   ]
  },
  {
   "cell_type": "code",
   "execution_count": null,
   "id": "6320dca0-e135-446a-b0b2-2fadfc2d9678",
   "metadata": {},
   "outputs": [],
   "source": []
  }
 ],
 "metadata": {
  "kernelspec": {
   "display_name": "Python 3 (ipykernel)",
   "language": "python",
   "name": "python3"
  },
  "language_info": {
   "codemirror_mode": {
    "name": "ipython",
    "version": 3
   },
   "file_extension": ".py",
   "mimetype": "text/x-python",
   "name": "python",
   "nbconvert_exporter": "python",
   "pygments_lexer": "ipython3",
   "version": "3.9.7"
  }
 },
 "nbformat": 4,
 "nbformat_minor": 5
}
